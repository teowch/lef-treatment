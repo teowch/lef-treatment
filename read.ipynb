{
 "cells": [
  {
   "cell_type": "code",
   "execution_count": 2,
   "metadata": {},
   "outputs": [],
   "source": [
    "def readLef(element, indent=0):\n",
    "    print(\" \" * indent + element.tag + \" - \", end='')\n",
    "    print(element.attrib)\n",
    "    for child in element:\n",
    "        readLef(child, indent + 4)"
   ]
  },
  {
   "cell_type": "code",
   "execution_count": null,
   "metadata": {},
   "outputs": [],
   "source": [
    "import xml.etree.ElementTree as ET\n",
    "\n",
    "tree = ET.parse('lxf_to_lef/unzipped/38296.lef')\n",
    "root = tree.getroot()\n",
    "meet = root.find('./MEETS/MEET')\n",
    "\n",
    "facility = meet.find('FACILITY').attrib\n",
    "pool_city = facility['city']\n",
    "pool_name = facility['name']\n",
    "pool_nation = facility['nation']\n",
    "pool_state = facility['state']\n",
    "\n",
    "organizer = meet.find('CONTACT').attrib['name']\n",
    "\n",
    "sessions = meet.findall('SESSION')\n",
    "for session in sessions:\n",
    "    session_date = session.attrib['date']\n",
    "    session_number = session.attrib['number']\n",
    "    events = session.findall('EVENT')\n",
    "    for event in events:\n",
    "        eventid = event.attrib['eventid']\n",
    "        daytime = event.attrib['daytime']\n",
    "        gender = event.attrib['gender']\n",
    "        \n"
   ]
  }
 ],
 "metadata": {
  "kernelspec": {
   "display_name": "Python 3",
   "language": "python",
   "name": "python3"
  },
  "language_info": {
   "codemirror_mode": {
    "name": "ipython",
    "version": 3
   },
   "file_extension": ".py",
   "mimetype": "text/x-python",
   "name": "python",
   "nbconvert_exporter": "python",
   "pygments_lexer": "ipython3",
   "version": "3.10.9"
  }
 },
 "nbformat": 4,
 "nbformat_minor": 2
}
